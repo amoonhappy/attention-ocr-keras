{
 "nbformat": 4,
 "nbformat_minor": 2,
 "metadata": {
  "language_info": {
   "name": "python",
   "codemirror_mode": {
    "name": "ipython",
    "version": 3
   },
   "version": "3.6.9-final"
  },
  "orig_nbformat": 2,
  "file_extension": ".py",
  "mimetype": "text/x-python",
  "name": "python",
  "npconvert_exporter": "python",
  "pygments_lexer": "ipython3",
  "version": 3,
  "kernelspec": {
   "name": "python36964bit91d18368432945ea9e9b1e0c8c6ecbd9",
   "display_name": "Python 3.6.9 64-bit"
  }
 },
 "cells": [
  {
   "cell_type": "code",
   "execution_count": 2,
   "metadata": {},
   "outputs": [
    {
     "name": "stdout",
     "output_type": "stream",
     "text": "Collecting pandas\n\u001b[?25l  Downloading https://files.pythonhosted.org/packages/52/3f/f6a428599e0d4497e1595030965b5ba455fd8ade6e977e3c819973c4b41d/pandas-0.25.3-cp36-cp36m-manylinux1_x86_64.whl (10.4MB)\n\u001b[K     |████████████████████████████████| 10.4MB 1.2MB/s \n\u001b[?25hCollecting pytz>=2017.2\n\u001b[?25l  Downloading https://files.pythonhosted.org/packages/e7/f9/f0b53f88060247251bf481fa6ea62cd0d25bf1b11a87888e53ce5b7c8ad2/pytz-2019.3-py2.py3-none-any.whl (509kB)\n\u001b[K     |████████████████████████████████| 512kB 913kB/s \n\u001b[?25hRequirement already satisfied: python-dateutil>=2.6.1 in /usr/local/lib/python3.6/dist-packages (from pandas) (2.8.1)\nRequirement already satisfied: numpy>=1.13.3 in /usr/local/lib/python3.6/dist-packages (from pandas) (1.18.1)\nRequirement already satisfied: six>=1.5 in /usr/local/lib/python3.6/dist-packages (from python-dateutil>=2.6.1->pandas) (1.13.0)\nInstalling collected packages: pytz, pandas\nSuccessfully installed pandas-0.25.3 pytz-2019.3\n\u001b[33mWARNING: You are using pip version 19.3.1; however, version 20.0.2 is available.\nYou should consider upgrading via the 'pip install --upgrade pip' command.\u001b[0m\n"
    }
   ],
   "source": [
    "!pip install pandas"
   ]
  },
  {
   "cell_type": "code",
   "execution_count": 1,
   "metadata": {},
   "outputs": [],
   "source": [
    "import pandas as pd\n",
    "from os import path, makedirs\n",
    "import urllib\n",
    "from IPython.display import clear_output, display"
   ]
  },
  {
   "cell_type": "code",
   "execution_count": 2,
   "metadata": {},
   "outputs": [
    {
     "name": "stdout",
     "output_type": "stream",
     "text": "Downloaded 32581/32581 (errors: 91)\n"
    }
   ],
   "source": [
    "dataset_descriptor = pd.read_csv(path.join('..', 'data', 'main_dataset.csv'))\n",
    "makedirs(path.join('..', 'data', 'images'))\n",
    "error_count = 0\n",
    "count = 0\n",
    "total = len(dataset_descriptor)\n",
    "for row in dataset_descriptor.iterrows():\n",
    "    try:\n",
    "        urllib.request.urlretrieve(row[1]['image'], path.join('..', 'data', 'images', '{}.jpq'.format(row[1]['name'])))\n",
    "    except:\n",
    "        error_count += 1\n",
    "        print('errors: {}'.format(error_count)) \n",
    "    count +=1\n",
    "    print(\"Downloaded {}/{} (errors: {})\".format(count, total, error_count), flush=True)\n",
    "    clear_output(wait=True)"
   ]
  },
  {
   "cell_type": "code",
   "execution_count": 1,
   "metadata": {},
   "outputs": [
    {
     "data": {
      "text/plain": "'/workspaces/librarian/notebooks'"
     },
     "execution_count": 1,
     "metadata": {},
     "output_type": "execute_result"
    }
   ],
   "source": [
    "pwd"
   ]
  },
  {
   "cell_type": "code",
   "execution_count": null,
   "metadata": {},
   "outputs": [],
   "source": []
  }
 ]
}
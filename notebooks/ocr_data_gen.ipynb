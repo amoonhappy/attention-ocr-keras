{
  "nbformat": 4,
  "nbformat_minor": 0,
  "metadata": {
    "colab": {
      "name": "ocr_data_gen.ipynb",
      "version": "0.3.2",
      "provenance": [],
      "collapsed_sections": []
    },
    "kernelspec": {
      "name": "python3",
      "display_name": "Python 3"
    }
  },
  "cells": [
    {
      "cell_type": "code",
      "execution_count": 1,
      "metadata": {},
      "outputs": [
        {
          "name": "stdout",
          "output_type": "stream",
          "text": "\u001b[33mWARNING: You are using pip version 19.3.1; however, version 20.0.2 is available.\nYou should consider upgrading via the 'pip install --upgrade pip' command.\u001b[0m\nReading package lists...\nBuilding dependency tree...\nReading state information...\nlibcairo2-dev is already the newest version (1.15.10-2ubuntu0.1).\n0 upgraded, 0 newly installed, 0 to remove and 0 not upgraded.\nReading package lists...\nBuilding dependency tree...\nReading state information...\ngraphviz is already the newest version (2.40.1-2).\n0 upgraded, 0 newly installed, 0 to remove and 0 not upgraded.\n\u001b[33mWARNING: You are using pip version 19.3.1; however, version 20.0.2 is available.\nYou should consider upgrading via the 'pip install --upgrade pip' command.\u001b[0m\n\u001b[33mWARNING: You are using pip version 19.3.1; however, version 20.0.2 is available.\nYou should consider upgrading via the 'pip install --upgrade pip' command.\u001b[0m\n"
        }
      ],
      "source": [
        "!pip install -q cairocffi editdistance\n",
        "!apt install -q libcairo2-dev\n",
        "!apt install -q graphviz\n",
        "!pip install -q pydot\n",
        "!pip install -q matplotlib graphviz pydot"
      ]
    },
    {
      "cell_type": "code",
      "execution_count": 6,
      "metadata": {},
      "outputs": [],
      "source": [
        "import os\n",
        "import itertools\n",
        "import codecs\n",
        "import re\n",
        "import datetime\n",
        "import cairocffi as cairo\n",
        "import editdistance\n",
        "import numpy as np\n",
        "import random\n",
        "import matplotlib.pyplot as plt\n",
        "from random import randint\n",
        "from random import seed\n",
        "from scipy import ndimage\n",
        "from PIL import Image\n",
        "from tensorflow.keras.preprocessing import image"
      ]
    },
    {
      "cell_type": "code",
      "execution_count": 13,
      "metadata": {},
      "outputs": [],
      "source": [
        "# create dataset directories\n",
        "set_dirs = {'train': '../data/simple_images/train',\n",
        "            'val': '../data/simple_images/val',\n",
        "            'test': '../data/simple_images/test'}"
      ]
    },
    {
      "cell_type": "code",
      "execution_count": 10,
      "metadata": {},
      "outputs": [],
      "source": [
        "# this creates larger \"blotches\" of noise which look\n",
        "# more realistic than just adding gaussian noise\n",
        "# assumes greyscale with pixels ranging from 0 to 1\n",
        "\n",
        "def speckle(img):\n",
        "    severity = np.random.uniform(0, 0.6)\n",
        "    blur = ndimage.gaussian_filter(np.random.randn(*img.shape) * severity, 1)\n",
        "    img_speck = (img + blur)\n",
        "    img_speck[img_speck > 1] = 1\n",
        "    img_speck[img_speck <= 0] = 0\n",
        "    return img_speck\n",
        "\n",
        "\n",
        "# paints the string in a random location the bounding box\n",
        "# also uses a random font, a slight random rotation,\n",
        "# and a random amount of speckle noise\n",
        "\n",
        "def paint_text(text, w, h, rotate=False, ud=False, multi_fonts=False):\n",
        "    surface = cairo.ImageSurface(cairo.FORMAT_RGB24, w, h)\n",
        "    with cairo.Context(surface) as context:\n",
        "        context.set_source_rgb(1, 1, 1)  # White\n",
        "        context.paint()\n",
        "        # font list\n",
        "        if multi_fonts:\n",
        "            fonts = ['Century Schoolbook', 'Courier', 'STIX', 'URW Chancery L', 'FreeMono', 'Arial', 'Times New Roman']\n",
        "            context.select_font_face(np.random.choice(fonts), cairo.FONT_SLANT_NORMAL,\n",
        "                                     np.random.choice([cairo.FONT_WEIGHT_BOLD, cairo.FONT_WEIGHT_NORMAL]))\n",
        "        else:\n",
        "            context.select_font_face('Courier', cairo.FONT_SLANT_NORMAL, cairo.FONT_WEIGHT_BOLD)\n",
        "        # random font size\n",
        "        font_size = random.randint(18,25)\n",
        "        context.set_font_size(font_size)\n",
        "        box = context.text_extents(text)\n",
        "        border_w_h = (3, 3)\n",
        "        if box[2] > (w - 2 * border_w_h[1]) or box[3] > (h - 2 * border_w_h[0]):\n",
        "            raise IOError('Could not fit string into image. Max char count is too large for given image width.')\n",
        "\n",
        "        # teach the RNN translational invariance by\n",
        "        # fitting text box randomly on canvas, with some room to rotate\n",
        "        max_shift_x = w - box[2] - border_w_h[0]\n",
        "        max_shift_y = h - box[3] - border_w_h[1]\n",
        "        top_left_x = np.random.randint(0, int(max_shift_x))\n",
        "        if ud:\n",
        "            top_left_y = np.random.randint(0, int(max_shift_y))\n",
        "        else:\n",
        "            top_left_y = h // 2\n",
        "        context.move_to(top_left_x - int(box[0]), top_left_y - int(box[1]))\n",
        "        context.set_source_rgb(0, 0, 0)\n",
        "        context.show_text(text)\n",
        "\n",
        "    buf = surface.get_data()\n",
        "    a = np.frombuffer(buf, np.uint8)\n",
        "    a.shape = (h, w, 4)\n",
        "    a = a[:, :, 0]  # grab single channel\n",
        "    a = a.astype(np.float32) / 255\n",
        "    a = np.expand_dims(a, 0)\n",
        "    if rotate:\n",
        "        a = image.random_rotation(a, 3 * (w - top_left_x) / w + 1)\n",
        "    a = speckle(a)\n",
        "\n",
        "    return a"
      ]
    },
    {
      "cell_type": "code",
      "execution_count": 12,
      "metadata": {},
      "outputs": [],
      "source": [
        "h = 240\n",
        "w = 240\n",
        "count = 10\n",
        "train_pc = 0.75\n",
        "val_pc = 0.15\n",
        "chars = 'abcdefghijklmnopqrstuvwxyz'\n",
        "\n",
        "# Generate unique words\n",
        "words = {}\n",
        "while len(words) != count:\n",
        "  word = \"\".join(random.choices(chars, k=random.randint(3, 8)))\n",
        "  if word not in words:\n",
        "    words[word] = None\n",
        "\n",
        "# Create each set\n",
        "unique_words = list(words.keys())\n",
        "train_size = int(count * train_pc)\n",
        "val_size = int(count * val_pc)\n",
        "\n",
        "train_set = unique_words[:train_size]\n",
        "val_set = unique_words[train_size:train_size+val_size]\n",
        "test_set = unique_words[train_size+val_size:]\n",
        "\n",
        "sets = {'../data/simple_images/train': train_set,\n",
        "        '../data/simple_images/val': val_set,\n",
        "        '../data/simple_images/test': test_set}\n",
        "\n",
        "for dir, set in sets.items():\n",
        "a = paint_text(word,h = h, w = w, rotate=True, ud=True, multi_fonts=True)\n",
        "    b = a.reshape((h, w))\n",
        "    #plt.imshow(b, cmap='Greys_r')\n",
        "    plt.imsave(\"{}/{}.png\".format(monogram_dir, word), b)"
      ]
    },
    {
      "cell_type": "code",
      "execution_count": null,
      "metadata": {},
      "outputs": [],
      "source": []
    }
  ]
}